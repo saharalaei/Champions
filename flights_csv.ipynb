{
 "cells": [
  {
   "cell_type": "code",
   "execution_count": 15,
   "metadata": {},
   "outputs": [],
   "source": [
    "import pandas as pd\n",
    "import csv\n",
    "import sqlalchemy\n",
    "from sqlalchemy import create_engine\n",
    "from sqlalchemy import Table, Column, Integer, String, MetaData, ForeignKey\n",
    "from sqlalchemy import inspect"
   ]
  },
  {
   "cell_type": "code",
   "execution_count": 16,
   "metadata": {},
   "outputs": [
    {
     "name": "stderr",
     "output_type": "stream",
     "text": [
      "C:\\Anaconda3\\lib\\site-packages\\IPython\\core\\interactiveshell.py:3063: DtypeWarning: Columns (1,3,4,5,6,7,8,9) have mixed types.Specify dtype option on import or set low_memory=False.\n",
      "  interactivity=interactivity, compiler=compiler, result=result)\n"
     ]
    }
   ],
   "source": [
    "jan1_flight_data = pd.read_csv(\"/Users/anali/OneDrive/Documents/00000_BootCamp/ETL/Champions/Resources/flightlist_20200101_20200131_part1.csv\")\n",
    "jan2_flight_data = pd.read_csv(\"/Users/anali/OneDrive/Documents/00000_BootCamp/ETL/Champions/Resources/flightlist_20200101_20200131_part2.csv\")\n",
    "feb_flight_data = pd.read_csv(\"/Users/anali/OneDrive/Documents/00000_BootCamp/ETL/Champions/Resources/flightlist_20200201_20200229.csv\")\n",
    "mar_flight_data = pd.read_csv(\"/Users/anali/OneDrive/Documents/00000_BootCamp/ETL/Champions/Resources/flightlist_20200401_20200430.csv\")\n",
    "apr_flight_data = pd.read_csv(\"/Users/anali/OneDrive/Documents/00000_BootCamp/ETL/Champions/Resources/flightlist_20200401_20200430.csv\")\n",
    "may_flight_data = pd.read_csv(\"/Users/anali/OneDrive/Documents/00000_BootCamp/ETL/Champions/Resources/flightlist_20200501_20200531.csv\")\n"
   ]
  },
  {
   "cell_type": "code",
   "execution_count": 17,
   "metadata": {},
   "outputs": [],
   "source": [
    "jan1 = pd.DataFrame(jan1_flight_data)\n",
    "jan2 = pd.DataFrame(jan2_flight_data)\n",
    "feb = pd.DataFrame(feb_flight_data)\n",
    "mar= pd.DataFrame(mar_flight_data)\n",
    "apr = pd.DataFrame(apr_flight_data)\n",
    "may= pd.DataFrame(may_flight_data)"
   ]
  },
  {
   "cell_type": "code",
   "execution_count": 18,
   "metadata": {},
   "outputs": [],
   "source": [
    "months= ([jan1,jan2,feb, mar,apr, may ])"
   ]
  },
  {
   "cell_type": "code",
   "execution_count": 19,
   "metadata": {},
   "outputs": [],
   "source": [
    "df= pd.concat(months)"
   ]
  },
  {
   "cell_type": "code",
   "execution_count": 25,
   "metadata": {},
   "outputs": [
    {
     "data": {
      "text/html": [
       "<div>\n",
       "<style scoped>\n",
       "    .dataframe tbody tr th:only-of-type {\n",
       "        vertical-align: middle;\n",
       "    }\n",
       "\n",
       "    .dataframe tbody tr th {\n",
       "        vertical-align: top;\n",
       "    }\n",
       "\n",
       "    .dataframe thead th {\n",
       "        text-align: right;\n",
       "    }\n",
       "</style>\n",
       "<table border=\"1\" class=\"dataframe\">\n",
       "  <thead>\n",
       "    <tr style=\"text-align: right;\">\n",
       "      <th></th>\n",
       "      <th>callsign</th>\n",
       "      <th>number</th>\n",
       "      <th>origin</th>\n",
       "      <th>destination</th>\n",
       "      <th>firstseen</th>\n",
       "    </tr>\n",
       "  </thead>\n",
       "  <tbody>\n",
       "    <tr>\n",
       "      <th>0</th>\n",
       "      <td>SVA816</td>\n",
       "      <td>NaN</td>\n",
       "      <td>NaN</td>\n",
       "      <td>NaN</td>\n",
       "      <td>12/31/2019</td>\n",
       "    </tr>\n",
       "    <tr>\n",
       "      <th>1</th>\n",
       "      <td>THY183</td>\n",
       "      <td>NaN</td>\n",
       "      <td>NaN</td>\n",
       "      <td>LTBW</td>\n",
       "      <td>12/31/2019</td>\n",
       "    </tr>\n",
       "    <tr>\n",
       "      <th>2</th>\n",
       "      <td>CES738</td>\n",
       "      <td>MU738</td>\n",
       "      <td>YMML</td>\n",
       "      <td>YSSY</td>\n",
       "      <td>12/31/2019</td>\n",
       "    </tr>\n",
       "    <tr>\n",
       "      <th>3</th>\n",
       "      <td>CES771</td>\n",
       "      <td>MU771</td>\n",
       "      <td>YSSY</td>\n",
       "      <td>EHAM</td>\n",
       "      <td>12/31/2019</td>\n",
       "    </tr>\n",
       "    <tr>\n",
       "      <th>4</th>\n",
       "      <td>HAL5</td>\n",
       "      <td>HA5</td>\n",
       "      <td>KLAS</td>\n",
       "      <td>NaN</td>\n",
       "      <td>12/31/2019</td>\n",
       "    </tr>\n",
       "    <tr>\n",
       "      <th>...</th>\n",
       "      <td>...</td>\n",
       "      <td>...</td>\n",
       "      <td>...</td>\n",
       "      <td>...</td>\n",
       "      <td>...</td>\n",
       "    </tr>\n",
       "    <tr>\n",
       "      <th>95</th>\n",
       "      <td>CES220</td>\n",
       "      <td>MU220</td>\n",
       "      <td>EDDF</td>\n",
       "      <td>NaN</td>\n",
       "      <td>12/31/2019</td>\n",
       "    </tr>\n",
       "    <tr>\n",
       "      <th>96</th>\n",
       "      <td>CCA432</td>\n",
       "      <td>NaN</td>\n",
       "      <td>EDDF</td>\n",
       "      <td>NaN</td>\n",
       "      <td>12/31/2019</td>\n",
       "    </tr>\n",
       "    <tr>\n",
       "      <th>97</th>\n",
       "      <td>LAN572</td>\n",
       "      <td>LA572</td>\n",
       "      <td>NTAA</td>\n",
       "      <td>SKBO</td>\n",
       "      <td>12/31/2019</td>\n",
       "    </tr>\n",
       "    <tr>\n",
       "      <th>98</th>\n",
       "      <td>QTR8155</td>\n",
       "      <td>NaN</td>\n",
       "      <td>ELLX</td>\n",
       "      <td>SBGR</td>\n",
       "      <td>12/31/2019</td>\n",
       "    </tr>\n",
       "    <tr>\n",
       "      <th>99</th>\n",
       "      <td>HVN36</td>\n",
       "      <td>VN36</td>\n",
       "      <td>EDDF</td>\n",
       "      <td>RKSI</td>\n",
       "      <td>12/31/2019</td>\n",
       "    </tr>\n",
       "  </tbody>\n",
       "</table>\n",
       "<p>100 rows × 5 columns</p>\n",
       "</div>"
      ],
      "text/plain": [
       "   callsign number origin destination   firstseen\n",
       "0    SVA816    NaN    NaN         NaN  12/31/2019\n",
       "1    THY183    NaN    NaN        LTBW  12/31/2019\n",
       "2    CES738  MU738   YMML        YSSY  12/31/2019\n",
       "3    CES771  MU771   YSSY        EHAM  12/31/2019\n",
       "4      HAL5    HA5   KLAS         NaN  12/31/2019\n",
       "..      ...    ...    ...         ...         ...\n",
       "95   CES220  MU220   EDDF         NaN  12/31/2019\n",
       "96   CCA432    NaN   EDDF         NaN  12/31/2019\n",
       "97   LAN572  LA572   NTAA        SKBO  12/31/2019\n",
       "98  QTR8155    NaN   ELLX        SBGR  12/31/2019\n",
       "99    HVN36   VN36   EDDF        RKSI  12/31/2019\n",
       "\n",
       "[100 rows x 5 columns]"
      ]
     },
     "execution_count": 25,
     "metadata": {},
     "output_type": "execute_result"
    }
   ],
   "source": [
    "flight_df= df[['callsign', 'number', 'origin', 'destination', 'firstseen']]\n",
    "flight_df.head(100)"
   ]
  },
  {
   "cell_type": "code",
   "execution_count": 28,
   "metadata": {},
   "outputs": [],
   "source": [
    "flight_df.to_csv('flights_07_31_csv.csv')"
   ]
  },
  {
   "cell_type": "code",
   "execution_count": null,
   "metadata": {},
   "outputs": [],
   "source": []
  }
 ],
 "metadata": {
  "kernelspec": {
   "display_name": "Python 3",
   "language": "python",
   "name": "python3"
  },
  "language_info": {
   "codemirror_mode": {
    "name": "ipython",
    "version": 3
   },
   "file_extension": ".py",
   "mimetype": "text/x-python",
   "name": "python",
   "nbconvert_exporter": "python",
   "pygments_lexer": "ipython3",
   "version": "3.7.6"
  }
 },
 "nbformat": 4,
 "nbformat_minor": 4
}
